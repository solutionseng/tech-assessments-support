{
 "cells": [
  {
   "cell_type": "markdown",
   "metadata": {},
   "source": [
    "<img width=\"70px\" align=\"left\" src=\"courseraicon.jpg\"> "
   ]
  },
  {
   "cell_type": "markdown",
   "metadata": {},
   "source": [
    "#   Autograding with Coursera Custom Graders Project #"
   ]
  },
  {
   "cell_type": "markdown",
   "metadata": {},
   "source": [
    "Welcome to the Autograding with Coursera Custom Graders Project, powered by <a href=\"https://rhyme.com/\"> Rhyme</a>!<br> \n",
    "This notebook is a resource that will help you follow along with the project videos. Feel free to pause, speed up, or slow down the lessons as needed to work on your own pace.\n",
    "\n",
    "## <b>Learning Objectives </b>\n",
    "<b> By the end of this project you’ll be able to:</b>\n",
    "- Build the minimum structure and requirements for autograding via custom graders\n",
    "- Run, test, and troubleshoot an example custom grader\n",
    "- Deliver custom feedback and a score to learners for their autograded code submissions\n",
    "- Apply your project custom grader template to your own autograder build"
   ]
  },
  {
   "cell_type": "markdown",
   "metadata": {},
   "source": [
    "## <b>Learn by Doing:</b>##\n",
    "This is a hands on training project. You'll see demos on the right hand side of your screen, while completing your own build on the left portion of the screen. We'll email you copies of all of the resources available in this project after you've completed it for your reference.<br>\n",
    "<img align=\"center\" width=\"200px\" src=\"build.jpg\"><br>\n"
   ]
  },
  {
   "cell_type": "markdown",
   "metadata": {},
   "source": [
    "### Project Topics Covered:"
   ]
  },
  {
   "cell_type": "markdown",
   "metadata": {},
   "source": [
    "<table style=\"width:80%\" align=\"left\">\n",
    "    <tr>\n",
    "        <th>Task Description</th>\n",
    "        <th>Complete?</th>\n",
    "    </tr>\n",
    "    <tr>\n",
    "        <td>Project Learning Objectives and Goals</td>\n",
    "        <td><input type=\"checkbox\" name=\"completed\" value=\"\"></td>\n",
    "    </tr>\n",
    "    <tr>\n",
    "        <td>Orientation to your development environment </td>\n",
    "        <td><input type=\"checkbox\" name=\"completed\" value=\"\"></td>\n",
    "    </tr>\n",
    "    <tr>\n",
    "        <td>Install and Configure the Courseraprogramming SDK</td>\n",
    "        <td><input type=\"checkbox\" name=\"completed\" value=\"\"></td>\n",
    "    </tr>\n",
    "    <tr>\n",
    "        <td>Introduction to your Custom Grader Template</td>\n",
    "        <td><input type=\"checkbox\" name=\"completed\" value=\"\"></td>\n",
    "    </tr>\n",
    "    <tr>\n",
    "        <td>Building your Dockerfile</td>\n",
    "        <td><input type=\"checkbox\" name=\"completed\" value=\"\"></td>\n",
    "    </tr>\n",
    "    <tr>\n",
    "        <td><b>executeGrader.sh</b>: Handling Grader Arguments Submissions, and Solutions Files</td>\n",
    "        <td><input type=\"checkbox\" name=\"completed\" value=\"\"></td>\n",
    "    </tr>\n",
    "    <tr>\n",
    "        <td><b>Grader.java</b>: Run Grader Logic to Deliver Scores and Feedback</td>\n",
    "        <td><input type=\"checkbox\" name=\"completed\" value=\"\"></td>\n",
    "    </tr>\n",
    "    <tr>\n",
    "        <td>Build your Custom Grader with Docker</td>\n",
    "        <td><input type=\"checkbox\" name=\"completed\" value=\"\"></td>\n",
    "    </tr>\n",
    "    <tr>\n",
    "        <td>Local Testing with courseraprogramming</td>\n",
    "        <td><input type=\"checkbox\" name=\"completed\" value=\"\"></td>\n",
    "    </tr>\n",
    "    <tr>\n",
    "        <td>Upload your Custom Grader to a Programming Assignment</td>\n",
    "        <td><input type=\"checkbox\" name=\"completed\" value=\"\"></td>\n",
    "    </tr>\n",
    "    <tr>\n",
    "        <td>End to End testing through a learner submission</td>\n",
    "        <td><input type=\"checkbox\" name=\"completed\" value=\"\"></td>\n",
    "    </tr>\n",
    "    <tr>\n",
    "        <td>Troubleshoot your Custom Grader through platform error logs and resolve errors</td>\n",
    "        <td><input type=\"checkbox\" name=\"completed\" value=\"\"></td>\n",
    "    </tr>\n",
    "    <tr>\n",
    "        <td> Final Custom Grader Testing and Wrap Up</td>\n",
    "        <td><input type=\"checkbox\" name=\"completed\" value=\"\"></td>\n",
    "    </tr>\n",
    "</table>"
   ]
  },
  {
   "cell_type": "markdown",
   "metadata": {},
   "source": [
    "# Resources and Commands"
   ]
  },
  {
   "cell_type": "markdown",
   "metadata": {},
   "source": [
    "<b> Orientation to your development environment </b>"
   ]
  },
  {
   "cell_type": "raw",
   "metadata": {},
   "source": [
    "# Check your current environment\n",
    "conda activate py27demo\n",
    "docker -v\n",
    "python -V\n",
    "pip --version\n",
    "git --version"
   ]
  },
  {
   "cell_type": "markdown",
   "metadata": {},
   "source": [
    "<b> Install & Configure the Courseraprogramming SDK</b>"
   ]
  },
  {
   "cell_type": "raw",
   "metadata": {},
   "source": [
    "# Using the Courseraprogramming SDK\n",
    "https://github.com/coursera/courseraprogramming\n",
    "\n",
    "$ git clone https://github.com/coursera/courseraprogramming\n",
    "$ cd courseraprogramming/\n",
    "$ python setup.py develop\n",
    "$ pip install -r test_requirements.txt\n",
    "$ courseraprogramming -h "
   ]
  },
  {
   "cell_type": "markdown",
   "metadata": {},
   "source": [
    "<b> Introduction to your Custom Grader Template</b>"
   ]
  },
  {
   "cell_type": "markdown",
   "metadata": {},
   "source": [
    "$ sudo git clone https://github.com/coursera/programming-assignments-demo"
   ]
  },
  {
   "cell_type": "markdown",
   "metadata": {},
   "source": [
    "### Main Template Grading Strategy"
   ]
  },
  {
   "cell_type": "markdown",
   "metadata": {},
   "source": [
    "<img src=\"custom_grader_view.png\">"
   ]
  },
  {
   "cell_type": "markdown",
   "metadata": {},
   "source": [
    "<b> Building your Dockerfile: </b> <a href=\"https://docs.docker.com/develop/develop-images/dockerfile_best-practices/\">Best Practices for Writing Dockerfiles</a>"
   ]
  },
  {
   "cell_type": "raw",
   "metadata": {},
   "source": [
    "# Create centralized grading file directory\n",
    "RUN mkdir /grader \\\n",
    "    /grader/FactoringGrader \\\n",
    "    /grader/PrimeGrader\n",
    "    \n",
    "COPY executeGrader.sh Grader.java /grader/\n",
    "COPY FactoringGrader/* /grader/FactoringGrader/\n",
    "COPY PrimeGrader/* /grader/PrimeGrader/\n",
    "\n",
    "# Set Permissions (at a more granular level)\n",
    "RUN chmod a+rwx -R /grader/\n",
    "\n",
    "# Build your Dockerfile\n",
    "$ docker build -t demo_grader.v1"
   ]
  },
  {
   "cell_type": "markdown",
   "metadata": {},
   "source": [
    "<b>executeGrader.sh: Handling Grader Arguments, Learner Submissions, and Solutions Files</b>"
   ]
  },
  {
   "cell_type": "raw",
   "metadata": {},
   "source": [
    "# Change directories:\n",
    "cd /grader\n",
    "\n",
    "# PartIds:\n",
    "Factoring: HxbKF\n",
    "Prime:     ov8KA"
   ]
  },
  {
   "cell_type": "raw",
   "metadata": {},
   "source": [
    "# Example Arugments Passed from the Programming Assignment -> Custom Grader\n",
    "\n",
    "About to read the entrypoint file... successfully opened.\n",
    "chdir: /\n",
    "command: ./grader/executeGrader.sh\n",
    "Argument 1: partId\n",
    "Argument 2: HxbKF\n",
    "Argument 3: filename\n",
    "Argument 4: Factoring.java\n",
    "Argument 5: userId\n",
    "Argument 6: 12345678\n",
    "Finished reading entrypoint file."
   ]
  },
  {
   "cell_type": "raw",
   "metadata": {},
   "source": [
    "# Grader Files (solutions.txt and testCases.txt)\n",
    "GRADER_DIRECTORY=FactoringGrader\n",
    "GRADER_DIRECTORY=PrimeGrader\n",
    "\n",
    "# Learner Example Submission Files\n",
    "SUBMISSION_CLASS=Factoring\n",
    "SUBMISSION_CLASS=Prime\n",
    "\n",
    "# Compile Learner's actual submission\n",
    "javac -d . /shared/submission/*\n",
    "\n",
    "# Pipe test cases into the submission file to generate learnerOutput.txt\n",
    "cat \"$GRADER_DIRECTORY\"/testCases.txt | java \"$SUBMISSION_CLASS\" 1> learnerOutput.txt\n",
    "\n",
    "# Compile the grading file & pass files as arguments: \n",
    "javac Grader.java\n",
    "java Grader \"$GRADER_DIRECTORY\"/solution.txt learnerOutput.txt"
   ]
  },
  {
   "cell_type": "markdown",
   "metadata": {},
   "source": [
    "<b>Grader.java: Run Grader Logic to Deliver Scores & Feedback</b>"
   ]
  },
  {
   "cell_type": "raw",
   "metadata": {},
   "source": [
    "# Define initial variables\n",
    "int numTestCasesFailed = 0;\n",
    "double finalFractionalScore = 0.0;\n",
    "String feedback;\n",
    "\n",
    "# Count testCases failed, and deduct penalty for final scoring.\n",
    "numTestCasesFailed++;\n",
    "finalFractionalScore = 1.0 - totalPenalty; -> for incorrect\n",
    "finalFractionalScore = 1.0; -> for all correct\n",
    "\n",
    "# Add custom string feedback & deliver to stdout:\n",
    "feedback = \"Your solution failed \" + numTestCasesFailed + \" test cases. \n",
    "feedback = \"Congrats! All test cases passed!\";\n",
    "\n",
    "System.out.println(jsonOutput);"
   ]
  },
  {
   "cell_type": "markdown",
   "metadata": {},
   "source": [
    "<b> Test your Custom Grader locally with courseraprogramming</b>"
   ]
  },
  {
   "cell_type": "raw",
   "metadata": {},
   "source": [
    "$ Courseraprogramming grade local <image name> <path to sample learner submission> partId <partId value>  \n",
    "\n",
    "$ Courseraprogramming grade local demo_grader.v1 ./SampleSubmission/FactoringSampleSubmission \n",
    "partId HxbKF\n",
    "\n",
    "$ Courseraprogramming grade local demo_grader.v1 ./SampleSubmission/PrimeSampleSubmission\n",
    "partId ov8KA"
   ]
  },
  {
   "cell_type": "markdown",
   "metadata": {},
   "source": [
    "Additional <a href=\"https://github.com/coursera/courseraprogramming#subcommands\">Courseraprogramming subcommands can be found here</a> including updating the following:\n",
    "\n",
    "- <b>--grader-cpu</b> takes a value of 1, 2, 3 or 4, representing the number of cores the grader will have access to when grading. The default is 1.\n",
    "- <b>--grader-memory-limit</b> takes a value of 1024, 2048, 3072 or 4096, representing the amount of memory in MB the grader will have access to when grading. The default is 1024.\n",
    "- <b>--grading-timeout</b> takes a value between 300 and 1800, representing the amount of time the grader is allowed to run before it times out. Note this value is counted from the moment the grader starts execution and does not include the time it takes Coursera to schedule the grader. The default value is 1200.\n"
   ]
  },
  {
   "cell_type": "markdown",
   "metadata": {},
   "source": [
    "After local testing is successful, it is time to upload your grader to platform for end to end testing. "
   ]
  },
  {
   "cell_type": "markdown",
   "metadata": {},
   "source": [
    "###  Great work! You've built your template custom grader, and completed this project!"
   ]
  },
  {
   "cell_type": "code",
   "execution_count": null,
   "metadata": {},
   "outputs": [],
   "source": []
  }
 ],
 "metadata": {
  "kernelspec": {
   "display_name": "Python 3",
   "language": "python",
   "name": "python3"
  },
  "language_info": {
   "codemirror_mode": {
    "name": "ipython",
    "version": 3
   },
   "file_extension": ".py",
   "mimetype": "text/x-python",
   "name": "python",
   "nbconvert_exporter": "python",
   "pygments_lexer": "ipython3",
   "version": "3.7.2"
  }
 },
 "nbformat": 4,
 "nbformat_minor": 2
}
