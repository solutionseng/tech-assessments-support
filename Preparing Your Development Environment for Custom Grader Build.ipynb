{
 "cells": [
  {
   "cell_type": "markdown",
   "metadata": {},
   "source": [
    "# Preparing Your Development Environment for Custom Grader Build"
   ]
  },
  {
   "cell_type": "markdown",
   "metadata": {},
   "source": [
    "In this tutorial, we'll provide step-by-step instructions to prepare your local development\n",
    "environment for Custom Grader build."
   ]
  },
  {
   "cell_type": "markdown",
   "metadata": {},
   "source": [
    "## <b>Learning Objectives:</b>\n",
    "\n",
    "By the end of this project you’ll be able to configure a local development environment for custom grader build, and run all needed tools without error.\n",
    "\n"
   ]
  },
  {
   "cell_type": "markdown",
   "metadata": {},
   "source": [
    "## Step 1: Configure your local development environment "
   ]
  },
  {
   "cell_type": "markdown",
   "metadata": {},
   "source": [
    "Here are the main steps needed to set your local dev environment up for success. Feel free to follow along and check these boxes as you complete them.<br><br>\n",
    "<input type=\"checkbox\" id=\"Docker\" name=\"Docker\" label=\"Install Docker\"\n",
    "         > Install Docker </input><br>\n",
    "<input type=\"checkbox\" id=\"Anaconda\" name=\"Anaconda\" label=\"Install Anaconda & Python\"\n",
    "         > Install Anaconda and Python </input><br>\n",
    "<input type=\"checkbox\" id=\"pip\" name=\"pip\" label=\"Install pip (if you do not already have it)\"\n",
    "         > Install pip (if you do not already have it) </input><br>\n",
    "<input type=\"checkbox\" id=\"pip\" name=\"pip\" label=\"Install git (if you do not already have it)\"\n",
    "         > Install git (if you do not already have it) </input><br>\n",
    "<input type=\"checkbox\" id=\"courseraprogramming\" name=\"courseraprogramming\" label=\"courseraprogramming\"\n",
    "         > Download Coursera's courseraprogramming SDK </input><br>\n",
    "<input type=\"checkbox\" id=\"DemoRepo\" name=\"DemoRepo\" label=\"DemoRep\"\n",
    "         > Download the two template custom graders provided  </input><br>"
   ]
  },
  {
   "cell_type": "markdown",
   "metadata": {},
   "source": [
    "### Install Docker"
   ]
  },
  {
   "cell_type": "markdown",
   "metadata": {},
   "source": [
    "Custom Graders are powered by <a href=\"https://docs.docker.com/get-started/\"> Docker </a>, so you'll first want to make sure you have Docker installed on your local machine. It will be our workhorse for creating scalable containers which run our autograder logic in Programming Assignments."
   ]
  },
  {
   "cell_type": "markdown",
   "metadata": {},
   "source": [
    "<ul>\n",
    "<li><b>Installation instructions for Mac:</b> <a href=\"https://docs.docker.com/docker-for-mac/install/\">can be found here</a></li>\n",
    "<li><b>Installation instructions for Windows 10:</b> <a href=\"https://docs.docker.com/docker-for-windows/install/\">can be found here. </a>\n",
    "    <ul>\n",
    "        <li>Please note that hardware virtualization support must be enabled in the BIOS settings for this to work appropriately in Windows 10. Here is a <a href=\"https://docs.google.com/document/d/17wQvvRRDO29rtOq7q0GHzEP8JbfGTSuBPLMDTrAdAVU/edit?usp=sharing\"> quick start guide </a> for these settings</li>\n",
    "    </ul>\n",
    "</ul>"
   ]
  },
  {
   "cell_type": "markdown",
   "metadata": {},
   "source": [
    "### Install Anaconda and Python"
   ]
  },
  {
   "cell_type": "markdown",
   "metadata": {},
   "source": [
    "<li><b>Installation Instructions for Anaconda:</b> Please install Python 2.7 at <a href=\"https://www.anaconda.com/distribution/#download-section\"> this link for your repspective operating system</a></li>"
   ]
  },
  {
   "cell_type": "markdown",
   "metadata": {},
   "source": [
    "### Install pip and git"
   ]
  },
  {
   "cell_type": "markdown",
   "metadata": {},
   "source": [
    "<li><b>Installation instructions for pip:</b> Please install pip at <a href=\"https://pip.pypa.io/en/stable/installing/\"> this link</a> (if you do not have this already)</li>\n",
    "<li><b>Installation instructions for git:</b> Please install git following instructions at <a href=\"https://help.github.com/en/articles/set-up-git\"> this link</a> (if you do not have this already). </li>"
   ]
  },
  {
   "cell_type": "markdown",
   "metadata": {},
   "source": [
    "### Install a Virtual Environment"
   ]
  },
  {
   "cell_type": "markdown",
   "metadata": {},
   "source": [
    "We utilize a Virtual Environment to test our custom graders locally via the courseraprogramming tool. This tool is currently in Python 2.7. Here are terminal commands to help get you started once you have Anaconda installed:"
   ]
  },
  {
   "cell_type": "raw",
   "metadata": {},
   "source": [
    "conda create -n <yourenvname> python=2.7\n",
    "\n",
    "source activate <yourenvname>"
   ]
  },
  {
   "cell_type": "markdown",
   "metadata": {},
   "source": [
    "### Download Coursera's courseraprogramming SDK"
   ]
  },
  {
   "cell_type": "raw",
   "metadata": {},
   "source": [
    "git clone https://github.com/coursera/courseraprogramming\n",
    "\n",
    "cd courseraprogramming/\n",
    "\n",
    "source activate <your env name> (if you are not still active in this environment)\n",
    "\n",
    "python setup.py develop\n",
    "\n",
    "pip install -r test_requirements.txt "
   ]
  },
  {
   "cell_type": "markdown",
   "metadata": {},
   "source": [
    "Test if your install was successful using:"
   ]
  },
  {
   "cell_type": "raw",
   "metadata": {},
   "source": [
    "courseraprogramming sanity"
   ]
  },
  {
   "cell_type": "markdown",
   "metadata": {},
   "source": [
    "Congratulations! Your local environment is now configured for you to begin custom grader build."
   ]
  }
 ],
 "metadata": {
  "kernelspec": {
   "display_name": "Python 3",
   "language": "python",
   "name": "python3"
  },
  "language_info": {
   "codemirror_mode": {
    "name": "ipython",
    "version": 3
   },
   "file_extension": ".py",
   "mimetype": "text/x-python",
   "name": "python",
   "nbconvert_exporter": "python",
   "pygments_lexer": "ipython3",
   "version": "3.7.2"
  }
 },
 "nbformat": 4,
 "nbformat_minor": 2
}
